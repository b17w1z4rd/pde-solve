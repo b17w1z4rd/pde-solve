{
  "cells": [
    {
      "cell_type": "code",
      "execution_count": 3,
      "metadata": {
        "colab": {
          "base_uri": "https://localhost:8080/"
        },
        "id": "6_HCJTYY2HRT",
        "outputId": "073f367f-19f6-4c4c-dba0-0c4d5ef2f2a5"
      },
      "outputs": [
        {
          "name": "stdout",
          "output_type": "stream",
          "text": [
            "Solution for X(x): Eq(X(x), C1*exp(-sqrt(lambda)*x) + C2*exp(sqrt(lambda)*x))\n",
            "Solution for Y(y): Eq(Y(y), C1*exp(-y*sqrt(-lambda)) + C2*exp(y*sqrt(-lambda)))\n",
            "General solution u(x, y): (C1*exp(-sqrt(lambda)*x) + C2*exp(sqrt(lambda)*x))*(C1*exp(-y*sqrt(-lambda)) + C2*exp(y*sqrt(-lambda)))\n"
          ]
        }
      ],
      "source": [
        "import sympy as sp\n",
        "\n",
        "\n",
        "x, y, lambda_ = sp.symbols('x y lambda')\n",
        "X = sp.Function('X')(x)\n",
        "Y = sp.Function('Y')(y)\n",
        "\n",
        "\n",
        "ode_X = sp.Eq(X.diff(x, 2) - lambda_*X, 0)\n",
        "ode_Y = sp.Eq(Y.diff(y, 2) + lambda_*Y, 0)\n",
        "\n",
        "\n",
        "sol_X = sp.dsolve(ode_X)\n",
        "sol_Y = sp.dsolve(ode_Y)\n",
        "\n",
        "\n",
        "print(\"Solution for X(x):\", sol_X)\n",
        "print(\"Solution for Y(y):\", sol_Y)\n",
        "\n",
        "\n",
        "u = sp.Function('u')(x, y)\n",
        "u_solution = sol_X.rhs * sol_Y.rhs\n",
        "print(\"General solution u(x, y):\", u_solution)\n"
      ]
    }
  ],
  "metadata": {
    "colab": {
      "provenance": []
    },
    "kernelspec": {
      "display_name": "Python 3",
      "name": "python3"
    },
    "language_info": {
      "name": "python"
    }
  },
  "nbformat": 4,
  "nbformat_minor": 0
}
